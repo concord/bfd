{
 "cells": [
  {
   "cell_type": "code",
   "execution_count": 1,
   "metadata": {
    "collapsed": true
   },
   "outputs": [],
   "source": [
    "%matplotlib inline\n",
    "import numpy as np\n",
    "import scipy.stats as stats\n",
    "from matplotlib import pyplot as plt"
   ]
  },
  {
   "cell_type": "code",
   "execution_count": 2,
   "metadata": {
    "collapsed": false
   },
   "outputs": [],
   "source": [
    "# Offline changepoint detection\n",
    "def changepoint_detection(data, hazard_function, distribution):\n",
    "    length = len(data)\n",
    "    H = hazard_function(np.arange(length + 1))\n",
    "    Pr = np.zeros((length + 1, length + 1))    # length + 1 b/c 0 is for priors\n",
    "    # Pr[r, t] = P(r_t=r, x_1:t)\n",
    "\n",
    "    Pr[0, 0] = 1\n",
    "    for t, x in enumerate(data):\n",
    "        t += 1    # t=0 is for priors stuff. First data point is @ t=1\n",
    "        predprobs = distribution.pdf(x)\n",
    "        Pr[1:t + 1, t] = Pr[:t, t - 1] * predprobs * (1 - H[:t])\n",
    "        Pr[0, t] = np.sum(Pr[:t, t - 1] * predprobs * H[:t])\n",
    "        Pr[:, t] /= np.sum(Pr[:, t])    # normalize probabilities\n",
    "        distribution.update(x)\n",
    "    return Pr"
   ]
  },
  {
   "cell_type": "code",
   "execution_count": 3,
   "metadata": {
    "collapsed": false
   },
   "outputs": [],
   "source": [
    "class BayesianChangepointDetection(object):\n",
    "    def __init__(self, hazard, distribution):\n",
    "        self.hazard = hazard\n",
    "        self.distribution = distribution\n",
    "        self.time = 0\n",
    "    \n",
    "        self.Pr = np.ones(1)\n",
    "    \n",
    "    def step(self, x):\n",
    "        self.time += 1\n",
    "\n",
    "        H = self.hazard(np.arange(self.time))\n",
    "        old = self.Pr\n",
    "        self.Pr = np.zeros(self.time + 1)   # +1 because 0 <= r <= time\n",
    "        \n",
    "        predprob = self.distribution.pdf(x)\n",
    "        self.distribution.update(x)\n",
    "        \n",
    "        self.Pr[1:] = old * predprob * (1 - H)\n",
    "        self.Pr[0] = np.sum(old * predprob * H)\n",
    "        self.Pr /= np.sum(self.Pr)\n",
    "        \n",
    "        return self.Pr"
   ]
  },
  {
   "cell_type": "markdown",
   "metadata": {},
   "source": [
    "Ideally, we distribution should be anything implenting the following interface:\n",
    "\n",
    "```Python\n",
    "class Distribution(object):\n",
    "    self.params = ...\n",
    "    def pdf(self, data):\n",
    "        \"\"\" eval pdf @ data\"\"\"\n",
    "    def update(self, data):\n",
    "        \"\"\" Bayesian update self.params based on data \"\"\"\n",
    "```\n",
    "\n",
    "This way, our online changepoint detector won't have to worry about the details of the Bayesian inference. Looking into PyMC for this"
   ]
  },
  {
   "cell_type": "code",
   "execution_count": 4,
   "metadata": {
    "collapsed": false
   },
   "outputs": [],
   "source": [
    "class StudentT(object):\n",
    "    \"\"\" Taken from https://github.com/hildensia/bayesian_changepoint_detection. For now.\n",
    "    \"\"\"\n",
    "    def __init__(self, alpha, beta, kappa, mu):\n",
    "        self.alpha0 = self.alpha = np.array([alpha])\n",
    "        self.beta0 = self.beta = np.array([beta])\n",
    "        self.kappa0 = self.kappa = np.array([kappa])\n",
    "        self.mu0 = self.mu = np.array([mu])\n",
    "\n",
    "    def pdf(self, data):\n",
    "        return stats.t.pdf(x=data, \n",
    "                           df=2*self.alpha,\n",
    "                           loc=self.mu,\n",
    "                           scale=np.sqrt(self.beta * (self.kappa+1) / (self.alpha *\n",
    "                               self.kappa)))\n",
    "\n",
    "    def update(self, data):\n",
    "        muT0 = np.concatenate((self.mu0, (self.kappa * self.mu + data) / (self.kappa + 1)))\n",
    "        kappaT0 = np.concatenate((self.kappa0, self.kappa + 1.))\n",
    "        alphaT0 = np.concatenate((self.alpha0, self.alpha + 0.5))\n",
    "        betaT0 = np.concatenate((self.beta0, self.beta + (self.kappa * (data -\n",
    "            self.mu)**2) / (2. * (self.kappa + 1.))))\n",
    "            \n",
    "        self.mu = muT0\n",
    "        self.kappa = kappaT0\n",
    "        self.alpha = alphaT0\n",
    "        self.beta = betaT0"
   ]
  },
  {
   "cell_type": "code",
   "execution_count": 5,
   "metadata": {
    "collapsed": false
   },
   "outputs": [
    {
     "data": {
      "image/png": "[encoded data removed]",
      "text/plain": [
       "<matplotlib.figure.Figure at 0x7fb12418c890>"
      ]
     },
     "metadata": {},
     "output_type": "display_data"
    },
    {
     "data": {
      "image/png": "[encoded data removed]",
      "text/plain": [
       "<matplotlib.figure.Figure at 0x7fb11e331390>"
      ]
     },
     "metadata": {},
     "output_type": "display_data"
    }
   ],
   "source": [
    "data = [0] * 100 + [1] * 100\n",
    "def hazard(t):\n",
    "    # given run length, return Pr(run is over)\n",
    "    p = 0.6\n",
    "    return p * (1-p) ** t\n",
    "Pr = changepoint_detection(data, hazard, StudentT(0.1, 0.1, 1, 0))\n",
    "\n",
    "plt.plot([Pr[:, t].argmax() for t in range(len(data))])\n",
    "plt.xlabel(\"Time\")\n",
    "plt.ylabel(\"Run length\")\n",
    "plt.show()\n",
    "\n",
    "plt.plot([Pr[0, t] for t in range(len(data))])\n",
    "plt.xlabel(\"time\")\n",
    "plt.ylabel(\"Probability of a change-point\")\n",
    "plt.show()"
   ]
  },
  {
   "cell_type": "code",
   "execution_count": 6,
   "metadata": {
    "collapsed": false
   },
   "outputs": [
    {
     "data": {
      "image/png": "[encoded data removed]",
      "text/plain": [
       "<matplotlib.figure.Figure at 0x7fb144b1c6d0>"
      ]
     },
     "metadata": {},
     "output_type": "display_data"
    },
    {
     "data": {
      "image/png": "[encoded data removed]",
      "text/plain": [
       "<matplotlib.figure.Figure at 0x7fb144b1c2d0>"
      ]
     },
     "metadata": {},
     "output_type": "display_data"
    }
   ],
   "source": [
    "data = [0] * 100 + [1] * 100\n",
    "def hazard(t):\n",
    "    # given run length, return Pr(run is over)\n",
    "    p = 0.6\n",
    "    return p * (1-p) ** t\n",
    "\n",
    "detector = BayesianChangepointDetection(hazard, StudentT(0.1, 0.1, 1, 0))\n",
    "\n",
    "Pr = [detector.step(x) for x in data]\n",
    "\n",
    "plt.plot([pr.argmax() for pr in Pr])\n",
    "plt.xlabel(\"Time\")\n",
    "plt.ylabel(\"Run length\")\n",
    "plt.show()\n",
    "\n",
    "plt.plot([pr[0] for pr in Pr])\n",
    "plt.xlabel(\"time\")\n",
    "plt.ylabel(\"Probability of a change-point\")\n",
    "plt.show()"
   ]
  },
  {
   "cell_type": "code",
   "execution_count": null,
   "metadata": {
    "collapsed": true
   },
   "outputs": [],
   "source": []
  }
 ],
 "metadata": {
  "kernelspec": {
   "display_name": "Python 2",
   "language": "python",
   "name": "python2"
  },
  "language_info": {
   "codemirror_mode": {
    "name": "ipython",
    "version": 2
   },
   "file_extension": ".py",
   "mimetype": "text/x-python",
   "name": "python",
   "nbconvert_exporter": "python",
   "pygments_lexer": "ipython2",
   "version": "2.7.10"
  }
 },
 "nbformat": 4,
 "nbformat_minor": 0
}
